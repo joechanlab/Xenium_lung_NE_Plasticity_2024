{
 "cells": [
  {
   "cell_type": "code",
   "execution_count": null,
   "id": "796e4105-8fcd-41d8-99f5-01c5ea90bb4e",
   "metadata": {},
   "outputs": [],
   "source": [
    "import os\n",
    "import argparse\n",
    "import numpy as np\n",
    "import pandas as pd\n",
    "from scipy.sparse import csr_matrix\n",
    "import matplotlib.pyplot as plt\n",
    "import seaborn as sns\n",
    "import scanpy as sc\n",
    "import squidpy as sq\n",
    "from anndata import AnnData\n",
    "import anndata\n",
    "\n",
    "basedir = \"/scratch/wangm10/RU1124/\"\n",
    "adata = anndata.read_h5ad(os.path.join(basedir, 'RU1124_celltypist.h5ad'))\n",
    "\n",
    "fig, axs = plt.subplots(1, 4, figsize=(15, 4))\n",
    "\n",
    "axs[0].set_title(\"Total transcripts per cell\")\n",
    "sns.histplot(\n",
    "    adata.obs[\"total_counts\"],\n",
    "    kde=False,\n",
    "    ax=axs[0],\n",
    ")\n",
    "\n",
    "axs[1].set_title(\"Unique transcripts per cell\")\n",
    "sns.histplot(\n",
    "    adata.obs[\"n_genes_by_counts\"],\n",
    "    kde=False,\n",
    "    ax=axs[1],\n",
    ")\n",
    "\n",
    "axs[2].set_title(\"Nucleus area\")\n",
    "sns.histplot(\n",
    "    adata.obs[\"nucleus_area\"],\n",
    "    kde=False,\n",
    "    ax=axs[2],\n",
    ")\n",
    "\n",
    "sns[3].histplot(\n",
    "    adata.obs['conf_score'],\n",
    "    kde=False\n",
    ")\n",
    "\n",
    "# celltypist labels\n",
    "top_five_labels = adata.obs['predicted_labels'].value_counts().nlargest(7).index\n",
    "filtered_adata = adata[adata.obs['predicted_labels'].isin(top_five_labels)].copy()\n",
    "filtered_adata.obs['predicted_labels'] = filtered_adata.obs['predicted_labels'].astype(str)\n",
    "sc.pl.umap(\n",
    "    filtered_adata,\n",
    "    color=['leiden', \"predicted_labels\"],\n",
    "    wspace=0.4, \n",
    "    palette = 'Set1'\n",
    ")"
   ]
  }
 ],
 "metadata": {
  "kernelspec": {
   "display_name": "Python [conda env:postprocessing]",
   "language": "python",
   "name": "conda-env-postprocessing-py"
  },
  "language_info": {
   "codemirror_mode": {
    "name": "ipython",
    "version": 3
   },
   "file_extension": ".py",
   "mimetype": "text/x-python",
   "name": "python",
   "nbconvert_exporter": "python",
   "pygments_lexer": "ipython3",
   "version": "3.12.4"
  }
 },
 "nbformat": 4,
 "nbformat_minor": 5
}
