{
 "cells": [
  {
   "cell_type": "code",
   "execution_count": null,
   "id": "796e4105-8fcd-41d8-99f5-01c5ea90bb4e",
   "metadata": {},
   "outputs": [],
   "source": [
    "import os\n",
    "import numpy as np\n",
    "import pandas as pd\n",
    "import matplotlib.pyplot as plt\n",
    "import seaborn as sns\n",
    "import scanpy as sc\n",
    "import squidpy as sq\n",
    "from matplotlib import rcParams\n",
    "\n",
    "FIGSIZE = (3, 3)\n",
    "rcParams[\"figure.figsize\"] = FIGSIZE"
   ]
  },
  {
   "cell_type": "code",
   "execution_count": null,
   "id": "1bcb25ce-2eba-4b7f-84ea-73e800699610",
   "metadata": {},
   "outputs": [],
   "source": [
    "path = \"../results/RU151.h5ad\"\n",
    "adata = sc.read_h5ad(path)"
   ]
  },
  {
   "cell_type": "code",
   "execution_count": null,
   "id": "65dbc1ac-e66f-4c9a-bab2-6398f422e107",
   "metadata": {},
   "outputs": [],
   "source": [
    "fig, axs = plt.subplots(1, 3, figsize=(10, 3))\n",
    "\n",
    "axs[0].set_title(\"Total transcripts per cell\")\n",
    "sns.histplot(\n",
    "    adata.obs[\"total_counts\"],\n",
    "    kde=False,\n",
    "    ax=axs[0],\n",
    ")\n",
    "\n",
    "axs[1].set_title(\"Unique transcripts per cell\")\n",
    "sns.histplot(\n",
    "    adata.obs[\"n_genes_by_counts\"],\n",
    "    kde=False,\n",
    "    ax=axs[1],\n",
    ")\n",
    "\n",
    "axs[2].set_title(\"Nucleus area\")\n",
    "sns.histplot(\n",
    "    adata.obs[\"nucleus_area\"],\n",
    "    kde=False,\n",
    "    ax=axs[2],\n",
    ")\n"
   ]
  },
  {
   "cell_type": "code",
   "execution_count": null,
   "id": "0972bc49-25c5-4df1-9fba-128f9931061b",
   "metadata": {},
   "outputs": [],
   "source": [
    "sc.pl.umap(\n",
    "    adata,\n",
    "    color=[\n",
    "        \"total_counts\",\n",
    "        \"n_genes_by_counts\",\n",
    "        \"leiden\",\n",
    "    ],\n",
    "    wspace=0.4,\n",
    ")"
   ]
  },
  {
   "cell_type": "code",
   "execution_count": null,
   "id": "784263c8-ea18-442a-834c-3c8563710b9a",
   "metadata": {},
   "outputs": [],
   "source": [
    "sq.pl.spatial_scatter(\n",
    "    adata,\n",
    "    library_id=\"spatial\",\n",
    "    shape=None,\n",
    "    color=[\n",
    "        \"leiden\",\n",
    "    ],\n",
    "    wspace=0.4,\n",
    ")"
   ]
  },
  {
   "cell_type": "code",
   "execution_count": null,
   "id": "b9e62bbc-18a0-4369-854e-af0ae3249e69",
   "metadata": {},
   "outputs": [],
   "source": [
    "n_genes = 10\n",
    "sc.pl.rank_genes_groups(adata, n_genes = n_genes)"
   ]
  },
  {
   "cell_type": "code",
   "execution_count": null,
   "id": "e1e40e0e-f39e-445f-a863-398a01412d58",
   "metadata": {},
   "outputs": [],
   "source": [
    "gene_info = pd.read_csv(\"/data/chanjlab/Xenium.lung.NE_plasticity.010124/ref/Final_Gene_Panel_Design.081523/Xenium_hLung_v1_metadata.csv\")\n",
    "gene_info_2 = pd.read_table(\"/data/chanjlab/Xenium.lung.NE_plasticity.010124/ref/Final_Gene_Panel_Design.081523/Xenium.custom_gene_panel.v5.txt\")\n",
    "genes = pd.concat([gene_info.Gene, gene_info_2.Gene])\n",
    "annotations = pd.concat([gene_info.Annotation, gene_info_2.Info])\n",
    "gene_annot_map = dict(zip(genes, annotations))\n",
    "\n",
    "# Get ranked genes from adata\n",
    "ranked_genes = adata.uns['rank_genes_groups']\n",
    "gene_names = ranked_genes['names']\n",
    "scores = ranked_genes['scores']\n",
    "\n",
    "genes_dict = {}\n",
    "for group in gene_names.dtype.names:\n",
    "    genes_with_score = list(zip(gene_names[group], scores[group]))\n",
    "    sorted_genes = sorted(genes_with_score, key=lambda x: x[1], reverse=True)  # Sort by fold change in descending order\n",
    "    top_genes = [gene for gene, fold_change in sorted_genes[:n_genes]]  # Take the top n_genes\n",
    "    genes_dict[group] = top_genes\n",
    "\n",
    "# Get the result as a list of dictionaries\n",
    "def find_keys_for_all_values(gene_annot_map, genes_dict):\n",
    "    result = []\n",
    "    for group, genes in genes_dict.items():\n",
    "        for gene in genes:\n",
    "            annotation = gene_annot_map.get(gene, None)\n",
    "            result.append({'group': group, 'gene': gene, 'annotation': annotation})\n",
    "    return result\n",
    "table_data = find_keys_for_all_values(gene_annot_map, genes_dict)\n",
    "\n",
    "# Convert to pandas DataFrame\n",
    "df = pd.DataFrame(table_data).drop_duplicates()\n",
    "pd.set_option('display.max_rows', 500)\n",
    "df"
   ]
  }
 ],
 "metadata": {
  "kernelspec": {
   "display_name": "Python [conda env:postprocessing]",
   "language": "python",
   "name": "postprocessing"
  },
  "language_info": {
   "codemirror_mode": {
    "name": "ipython",
    "version": 3
   },
   "file_extension": ".py",
   "mimetype": "text/x-python",
   "name": "python",
   "nbconvert_exporter": "python",
   "pygments_lexer": "ipython3",
   "version": "3.12.4"
  }
 },
 "nbformat": 4,
 "nbformat_minor": 5
}
