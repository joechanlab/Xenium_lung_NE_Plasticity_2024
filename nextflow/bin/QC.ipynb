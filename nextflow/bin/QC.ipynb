{
 "cells": [
  {
   "cell_type": "code",
   "execution_count": null,
   "id": "796e4105-8fcd-41d8-99f5-01c5ea90bb4e",
   "metadata": {},
   "outputs": [],
   "source": [
    "import os\n",
    "import numpy as np\n",
    "import pandas as pd\n",
    "import matplotlib.pyplot as plt\n",
    "import seaborn as sns\n",
    "import scanpy as sc\n",
    "import squidpy as sq\n",
    "from matplotlib import rcParams\n",
    "\n",
    "FIGSIZE = (3, 3)\n",
    "rcParams[\"figure.figsize\"] = FIGSIZE"
   ]
  },
  {
   "cell_type": "code",
   "execution_count": null,
   "id": "1bcb25ce-2eba-4b7f-84ea-73e800699610",
   "metadata": {},
   "outputs": [],
   "source": [
    "path = \"./\"\n",
    "filelist_all = os.listdir(path)\n",
    "h5ad_file = [x for x in filelist_all if x.endswith(\".h5ad\")]\n",
    "assert len(h5ad_file) == 1\n",
    "adata = sc.read_h5ad(h5ad_file[0])\n",
    "\n",
    "gene_annotation_file = [x for x in filelist_all if x.endswith(\".csv\")]\n",
    "assert len(gene_annotation_file) == 1\n",
    "gene_info = pd.read_csv(gene_annotation_file[0])"
   ]
  },
  {
   "cell_type": "markdown",
   "id": "d8b9e1a0",
   "metadata": {},
   "source": [
    "## QC metrics"
   ]
  },
  {
   "cell_type": "code",
   "execution_count": null,
   "id": "65dbc1ac-e66f-4c9a-bab2-6398f422e107",
   "metadata": {},
   "outputs": [],
   "source": [
    "fig, axs = plt.subplots(1, 3, figsize=(10, 3))\n",
    "\n",
    "axs[0].set_title(\"Total transcripts per cell\")\n",
    "sns.histplot(\n",
    "    adata.obs[\"total_counts\"],\n",
    "    kde=False,\n",
    "    ax=axs[0],\n",
    ")\n",
    "\n",
    "axs[1].set_title(\"Unique transcripts per cell\")\n",
    "sns.histplot(\n",
    "    adata.obs[\"n_genes_by_counts\"],\n",
    "    kde=False,\n",
    "    ax=axs[1],\n",
    ")\n",
    "\n",
    "axs[2].set_title(\"Nucleus area\")\n",
    "sns.histplot(\n",
    "    adata.obs[\"nucleus_area\"],\n",
    "    kde=False,\n",
    "    ax=axs[2],\n",
    ")\n"
   ]
  },
  {
   "cell_type": "markdown",
   "id": "ec7c3f8a",
   "metadata": {},
   "source": [
    "## Clustering"
   ]
  },
  {
   "cell_type": "code",
   "execution_count": null,
   "id": "0972bc49-25c5-4df1-9fba-128f9931061b",
   "metadata": {},
   "outputs": [],
   "source": [
    "sc.pl.umap(\n",
    "    adata,\n",
    "    color=[\n",
    "        \"total_counts\",\n",
    "        \"n_genes_by_counts\",\n",
    "        \"leiden\",\n",
    "    ],\n",
    "    wspace=0.4,\n",
    ")"
   ]
  },
  {
   "cell_type": "code",
   "execution_count": null,
   "id": "784263c8-ea18-442a-834c-3c8563710b9a",
   "metadata": {},
   "outputs": [],
   "source": [
    "sq.pl.spatial_scatter(\n",
    "    adata,\n",
    "    library_id=\"spatial\",\n",
    "    shape=None,\n",
    "    color=[\n",
    "        \"leiden\",\n",
    "    ],\n",
    "    wspace=0.4,\n",
    ")"
   ]
  },
  {
   "cell_type": "markdown",
   "id": "ecaae617",
   "metadata": {},
   "source": [
    "## Marker genes"
   ]
  },
  {
   "cell_type": "code",
   "execution_count": null,
   "id": "b9e62bbc-18a0-4369-854e-af0ae3249e69",
   "metadata": {},
   "outputs": [],
   "source": [
    "n_genes = 10\n",
    "sc.pl.rank_genes_groups(adata, n_genes = n_genes)"
   ]
  },
  {
   "cell_type": "code",
   "execution_count": null,
   "id": "14bbdb54",
   "metadata": {},
   "outputs": [],
   "source": [
    "ranked_genes = adata.uns['rank_genes_groups']\n",
    "gene_names = ranked_genes['names']\n",
    "scores = ranked_genes['scores']\n",
    "\n",
    "genes_dict = {}\n",
    "for group in gene_names.dtype.names:\n",
    "    genes_with_score = list(zip(gene_names[group], scores[group]))\n",
    "    sorted_genes = sorted(genes_with_score, key=lambda x: x[1], reverse=True)  # Sort by fold change in descending order\n",
    "    top_genes = [gene for gene, score in sorted_genes[:n_genes]]  # Take the top n_genes\n",
    "    genes_dict[group] = top_genes"
   ]
  },
  {
   "cell_type": "code",
   "execution_count": null,
   "id": "e1e40e0e-f39e-445f-a863-398a01412d58",
   "metadata": {},
   "outputs": [],
   "source": [
    "gene_annot_map = dict(zip(gene_info.gene, gene_info.annotation))\n",
    "\n",
    "def find_keys_for_all_values(gene_annot_map, genes_dict):\n",
    "    result = []\n",
    "    for group, genes in genes_dict.items():\n",
    "        for gene in genes:\n",
    "            annotation = gene_annot_map.get(gene, None)\n",
    "            result.append({'group': group, 'gene': gene, 'annotation': annotation})\n",
    "    return result\n",
    "table_data = find_keys_for_all_values(gene_annot_map, genes_dict)\n",
    "\n",
    "df = pd.DataFrame(table_data).drop_duplicates()\n",
    "pd.set_option('display.max_rows', 500)\n",
    "df"
   ]
  },
  {
   "cell_type": "code",
   "execution_count": null,
   "id": "c039b863",
   "metadata": {},
   "outputs": [],
   "source": [
    "n_top_markers = 3\n",
    "top_markers = []\n",
    "for group in gene_names.dtype.names:\n",
    "    top_markers.append(genes_dict[group][:n_top_markers])\n",
    "\n",
    "top_markers = set([x for x in top_markers if (~x.startswith(\"BLANK\") and ~x.startswith(\"NegControl\"))])\n",
    "sc.pl.umap(adata, color = top_markers, cmap = 'plasma', ncols = n_top_markers)"
   ]
  }
 ],
 "metadata": {
  "kernelspec": {
   "display_name": "Python [conda env:postprocessing]",
   "language": "python",
   "name": "postprocessing"
  },
  "language_info": {
   "codemirror_mode": {
    "name": "ipython",
    "version": 3
   },
   "file_extension": ".py",
   "mimetype": "text/x-python",
   "name": "python",
   "nbconvert_exporter": "python",
   "pygments_lexer": "ipython3",
   "version": "3.12.4"
  }
 },
 "nbformat": 4,
 "nbformat_minor": 5
}
